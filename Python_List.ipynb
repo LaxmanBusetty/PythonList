{
  "nbformat": 4,
  "nbformat_minor": 0,
  "metadata": {
    "colab": {
      "provenance": []
    },
    "kernelspec": {
      "name": "python3",
      "display_name": "Python 3"
    },
    "language_info": {
      "name": "python"
    }
  },
  "cells": [
    {
      "cell_type": "markdown",
      "source": [
        "In this file I'm going to use functions releated to list's.They are 1. list creation 2.creating list by using dynamic input 3. creating list by using list function 4.apend()function 5.Insret() function 6. remove() function 7.slicing 8.;len()"
      ],
      "metadata": {
        "id": "voxjUO34AqjG"
      }
    },
    {
      "cell_type": "code",
      "source": [
        "L = [1,2,3,4,5,6,7]                                #creating list object with list elements seperated by commas\n",
        "List1=list(range(5))\n",
        "print(L)\n",
        "print(List1)\n",
        "List2=\"python is used in machine learning\"       # string data type\n",
        "L2=List2.split()                                 # after using split function it will convert it into List type\n",
        "print(List2)\n",
        "print(L2)                                        \n",
        "print(type(List2))\n",
        "print(type(L2))\n",
        "print(L[5])                                      # Accessing elements of list using index function\n",
        "print(L[0])\n",
        "L.append(8)                                      # Using append() function to add an element\n",
        "L.append(9)                                      # Using append() function to add an element\n",
        "print(L)                                         # Printing L after making changes\n",
        "L.append(10)                                     # Using append() function to add an element\n",
        "print(L)                                         # Printing L after making changes\n",
        "L.insert(11,11)             # Using Insert function to insert values at a particular index values\n",
        "print(L)                                         # Printing L after making changes\n",
        "L.insert(0,0)               # Using Insert function to insert values at a particular index values\n",
        "print(L)                                         # Printing L after making changes\n",
        "L.insert(0,00)              # Using Insert function to insert values at a particular index values\n",
        "print(L)                                         # Using Insert function to insert values at a particular index values\n",
        "L.remove(11)                # Using remove function to remove particular values from the list\n",
        "L.remove(0)                 # Using remove function to remove particular values from the list\n",
        "L[0:8:2]                    # Using slicing operator\n",
        "print(L)                    # Printing L after making changes\n",
        "L.pop()                     # Using pop function to remove last element from the list\n",
        "print(L)                    # Printing L after making changes\n",
        "L.remove(9)                 # Using remove function to remove particular values from the list\n",
        "print(L)                    # Printing L after making changes\n",
        "L[5]=25                     # here i have changed list elemets because list objects are mutable\n",
        "print(L)                    # Printing L after making changes\n",
        "L[6]=36                     # here i have changed list elemets because list objects are mutable\n",
        "print(L)                    # Printing L after making changes\n",
        "len(L)                      # Using length function to find the length of the string\n",
        "\n",
        "\n",
        "\n"
      ],
      "metadata": {
        "colab": {
          "base_uri": "https://localhost:8080/"
        },
        "id": "GZCoAc9CClOj",
        "outputId": "79fecda7-e9e1-48ca-e09a-ec1defa36a36"
      },
      "execution_count": 47,
      "outputs": [
        {
          "output_type": "stream",
          "name": "stdout",
          "text": [
            "[1, 2, 3, 4, 5, 6, 7]\n",
            "[0, 1, 2, 3, 4]\n",
            "python is used in machine learning\n",
            "['python', 'is', 'used', 'in', 'machine', 'learning']\n",
            "<class 'str'>\n",
            "<class 'list'>\n",
            "6\n",
            "1\n",
            "[1, 2, 3, 4, 5, 6, 7, 8, 9]\n",
            "[1, 2, 3, 4, 5, 6, 7, 8, 9, 10]\n",
            "[1, 2, 3, 4, 5, 6, 7, 8, 9, 10, 11]\n",
            "[0, 1, 2, 3, 4, 5, 6, 7, 8, 9, 10, 11]\n",
            "[0, 0, 1, 2, 3, 4, 5, 6, 7, 8, 9, 10, 11]\n",
            "[0, 1, 2, 3, 4, 5, 6, 7, 8, 9, 10]\n",
            "[0, 1, 2, 3, 4, 5, 6, 7, 8, 9]\n",
            "[0, 1, 2, 3, 4, 5, 6, 7, 8]\n",
            "[0, 1, 2, 3, 4, 25, 6, 7, 8]\n",
            "[0, 1, 2, 3, 4, 25, 36, 7, 8]\n"
          ]
        },
        {
          "output_type": "execute_result",
          "data": {
            "text/plain": [
              "5"
            ]
          },
          "metadata": {},
          "execution_count": 47
        }
      ]
    },
    {
      "cell_type": "code",
      "source": [],
      "metadata": {
        "id": "m2vuyx8pDkTb"
      },
      "execution_count": null,
      "outputs": []
    }
  ]
}