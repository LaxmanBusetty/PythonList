{
  "nbformat": 4,
  "nbformat_minor": 0,
  "metadata": {
    "colab": {
      "provenance": []
    },
    "kernelspec": {
      "name": "python3",
      "display_name": "Python 3"
    },
    "language_info": {
      "name": "python"
    }
  },
  "cells": [
    {
      "cell_type": "code",
      "execution_count": null,
      "metadata": {
        "colab": {
          "base_uri": "https://localhost:8080/"
        },
        "id": "8_RIcCpEdldG",
        "outputId": "06d6032f-0ad8-44da-a637-d0fdffcfa74f"
      },
      "outputs": [
        {
          "output_type": "stream",
          "name": "stdout",
          "text": [
            "2\n",
            "4\n",
            "6\n",
            "8\n",
            "10\n",
            "2\n",
            "4\n",
            "6\n",
            "8\n",
            "10\n",
            "12\n",
            "14\n",
            "16\n",
            "18\n",
            "20\n",
            "[1, 2, 3, 4, 5, 6, 7, 8, 9, 10, 1, 2, 3, 4, 5, 6, 7, 8, 9, 10]\n",
            "1\n",
            "2\n",
            "3\n",
            "4\n",
            "5\n",
            "6\n",
            "7\n",
            "8\n",
            "9\n",
            "10\n"
          ]
        }
      ],
      "source": [
        "L=[1,2,3,4,5,6,7,8,9,10]           # Traversing the list elements.\n",
        "for l1 in L:                       # Using for loop in a list\n",
        "  if l1%2==0:\n",
        "    print(l1)\n",
        "for l1 in L:\n",
        "  l1=l1*2\n",
        "  print(l1)\n",
        "A=L*2\n",
        "print(A)\n",
        "i=0\n",
        "while i<len(L):                   # using while loop in a list\n",
        "  print(L[i])\n",
        "  i+=1"
      ]
    },
    {
      "cell_type": "code",
      "source": [
        "List=[1,2,3,4,5,6,7,8]            # Using index function to find the index of particular element in the list\n",
        "print(List.index(8))\n",
        "print(List.index(6))\n",
        "print(List.index(7))"
      ],
      "metadata": {
        "colab": {
          "base_uri": "https://localhost:8080/"
        },
        "id": "SH6LBNxifM6F",
        "outputId": "167c0ccd-2fb3-4860-a7c5-c6d5c4cc38e5"
      },
      "execution_count": null,
      "outputs": [
        {
          "output_type": "stream",
          "name": "stdout",
          "text": [
            "7\n",
            "5\n",
            "6\n"
          ]
        }
      ]
    },
    {
      "cell_type": "code",
      "source": [
        "L2=[1,2,1,2,1,2,1,2,1,2,2,7,3,4,4,5,6,4,3,4,7,5,7,5,5,5,5,4,5,3]\n",
        "print(L2.count(2))\n",
        "print(L2.count(3))             # using count function to count a repetation of particular element in a list\n",
        "print(L2.count(4))\n",
        "print(L2.count(5))\n"
      ],
      "metadata": {
        "colab": {
          "base_uri": "https://localhost:8080/"
        },
        "id": "wVrLV5esnCd5",
        "outputId": "22b5cfac-80a6-4192-9871-267699ec8e9f"
      },
      "execution_count": null,
      "outputs": [
        {
          "output_type": "stream",
          "name": "stdout",
          "text": [
            "6\n",
            "3\n",
            "5\n",
            "7\n"
          ]
        }
      ]
    },
    {
      "cell_type": "code",
      "source": [
        "print(sum(L2))               # Using sum function to find the sum of all the elements present in the list"
      ],
      "metadata": {
        "colab": {
          "base_uri": "https://localhost:8080/"
        },
        "id": "ObOONfjxncTt",
        "outputId": "2f793d25-c404-46f4-c2b0-0975473570b4"
      },
      "execution_count": null,
      "outputs": [
        {
          "output_type": "stream",
          "name": "stdout",
          "text": [
            "108\n"
          ]
        }
      ]
    },
    {
      "cell_type": "code",
      "source": [],
      "metadata": {
        "id": "7YMYMD1Gnwvv"
      },
      "execution_count": null,
      "outputs": []
    },
    {
      "cell_type": "code",
      "source": [
        "L.extend(List)              # Using entend function to extend the elemts from one list to another list\n",
        "print(L)"
      ],
      "metadata": {
        "colab": {
          "base_uri": "https://localhost:8080/"
        },
        "id": "Yz_abmXMod7N",
        "outputId": "fc9b532f-5dd3-4e4a-8fd7-d894850a2e93"
      },
      "execution_count": null,
      "outputs": [
        {
          "output_type": "stream",
          "name": "stdout",
          "text": [
            "[1, 2, 3, 4, 5, 6, 7, 8, 9, 10, 1, 2, 3, 4, 5, 6, 7, 8]\n"
          ]
        }
      ]
    },
    {
      "cell_type": "code",
      "source": [
        "print(List)"
      ],
      "metadata": {
        "colab": {
          "base_uri": "https://localhost:8080/"
        },
        "id": "r3JlHmjzo7XT",
        "outputId": "3257a4d4-d5f4-41ce-b1c0-00d70d798d76"
      },
      "execution_count": null,
      "outputs": [
        {
          "output_type": "stream",
          "name": "stdout",
          "text": [
            "[1, 2, 3, 4, 5, 6, 7, 8]\n"
          ]
        }
      ]
    },
    {
      "cell_type": "code",
      "source": [
        "List.reverse()                  # Using reverse function to change the order of the list elements\n",
        "print(List)"
      ],
      "metadata": {
        "colab": {
          "base_uri": "https://localhost:8080/"
        },
        "id": "gaBrC31d6JA0",
        "outputId": "552dd27f-fa2b-4080-96e4-5c2b4e01211e"
      },
      "execution_count": null,
      "outputs": [
        {
          "output_type": "stream",
          "name": "stdout",
          "text": [
            "[8, 7, 6, 5, 4, 3, 2, 1]\n"
          ]
        }
      ]
    },
    {
      "cell_type": "code",
      "source": [
        "List.sort()                    # Using the sort function to sort the elements of the list \n",
        "print(List)                     "
      ],
      "metadata": {
        "colab": {
          "base_uri": "https://localhost:8080/"
        },
        "id": "O08-ZbF96coZ",
        "outputId": "b3249f06-0007-4565-99b5-3a84adb20f17"
      },
      "execution_count": null,
      "outputs": [
        {
          "output_type": "stream",
          "name": "stdout",
          "text": [
            "[1, 2, 3, 4, 5, 6, 7, 8]\n"
          ]
        }
      ]
    },
    {
      "cell_type": "code",
      "source": [
        "List.sort(reverse=True)        # Using sort function to sort the list in reverse order\n",
        "print(List)"
      ],
      "metadata": {
        "colab": {
          "base_uri": "https://localhost:8080/"
        },
        "id": "LD2EDnBR6vy8",
        "outputId": "d3fa0fd4-bd25-4b1a-9585-e1c09b8ee693"
      },
      "execution_count": null,
      "outputs": [
        {
          "output_type": "stream",
          "name": "stdout",
          "text": [
            "[8, 7, 6, 5, 4, 3, 2, 1]\n"
          ]
        }
      ]
    },
    {
      "cell_type": "code",
      "source": [
        "A = [\"apple\",\"banana\",\"dog\",\"cat\",\"elephant\",\"monkey\",\"band\"]\n",
        "A.sort(reverse=True)\n",
        "print(A)"
      ],
      "metadata": {
        "colab": {
          "base_uri": "https://localhost:8080/"
        },
        "id": "4lju3M8762tp",
        "outputId": "8c0c5a9d-cd8e-4e14-9e97-30dc21a07d92"
      },
      "execution_count": null,
      "outputs": [
        {
          "output_type": "stream",
          "name": "stdout",
          "text": [
            "['monkey', 'elephant', 'dog', 'cat', 'band', 'banana', 'apple']\n"
          ]
        }
      ]
    },
    {
      "cell_type": "code",
      "source": [
        "B1=[1,2,3,4]                # Aliasing of List objects \n",
        "B2=B1\n",
        "print(B1)\n",
        "print(B2)\n",
        "B2[2]=300\n",
        "print(B1)\n",
        "print(B2)\n"
      ],
      "metadata": {
        "id": "2KWCztaJ7hva",
        "colab": {
          "base_uri": "https://localhost:8080/"
        },
        "outputId": "0e65517b-87b4-43a9-f455-4210095cdf1b"
      },
      "execution_count": 18,
      "outputs": [
        {
          "output_type": "stream",
          "name": "stdout",
          "text": [
            "[1, 2, 3, 4]\n",
            "[1, 2, 3, 4]\n",
            "[1, 2, 300, 4]\n",
            "[1, 2, 300, 4]\n"
          ]
        }
      ]
    },
    {
      "cell_type": "code",
      "source": [
        "C1=[11,22,33,44]             # using copy function in Aliasing\n",
        "C2=C1.copy()\n",
        "print(C1)\n",
        "print(C2)\n",
        "C2[2]=330\n",
        "print(C1)\n",
        "print(C2)"
      ],
      "metadata": {
        "colab": {
          "base_uri": "https://localhost:8080/"
        },
        "id": "a81lMlm5KeW2",
        "outputId": "94659e7e-2e87-4581-e076-edcd9306b0bc"
      },
      "execution_count": 20,
      "outputs": [
        {
          "output_type": "stream",
          "name": "stdout",
          "text": [
            "[11, 22, 33, 44]\n",
            "[11, 22, 33, 44]\n",
            "[11, 22, 33, 44]\n",
            "[11, 22, 330, 44]\n"
          ]
        }
      ]
    },
    {
      "cell_type": "code",
      "source": [
        "D1=[110,220,330,440]               # using slice operator in aliasing\n",
        "D2=D1[:]\n",
        "print(D1)\n",
        "print(D2)\n",
        "D2[1]=22\n",
        "D2[2]=33\n",
        "print(D1)\n",
        "print(D2)"
      ],
      "metadata": {
        "colab": {
          "base_uri": "https://localhost:8080/"
        },
        "id": "zT7QQg0zKxOZ",
        "outputId": "ecf69bcc-8d9a-4850-976e-98310e06df86"
      },
      "execution_count": 22,
      "outputs": [
        {
          "output_type": "stream",
          "name": "stdout",
          "text": [
            "[110, 220, 330, 440]\n",
            "[110, 220, 330, 440]\n",
            "[110, 220, 330, 440]\n",
            "[110, 22, 33, 440]\n"
          ]
        }
      ]
    },
    {
      "cell_type": "code",
      "source": [
        "D1+D2                       # concatinating 2 lists "
      ],
      "metadata": {
        "colab": {
          "base_uri": "https://localhost:8080/"
        },
        "id": "ivfLy376LQI5",
        "outputId": "1bc67d9c-a559-488b-907a-cfce35d6dcd9"
      },
      "execution_count": 23,
      "outputs": [
        {
          "output_type": "execute_result",
          "data": {
            "text/plain": [
              "[110, 220, 330, 440, 110, 22, 33, 440]"
            ]
          },
          "metadata": {},
          "execution_count": 23
        }
      ]
    },
    {
      "cell_type": "code",
      "source": [
        "D1*2                         # repetation of lists"
      ],
      "metadata": {
        "colab": {
          "base_uri": "https://localhost:8080/"
        },
        "id": "LfnevDtWLvOV",
        "outputId": "4d155f07-2bf8-4c9f-c852-b18771f5c5cd"
      },
      "execution_count": 24,
      "outputs": [
        {
          "output_type": "execute_result",
          "data": {
            "text/plain": [
              "[110, 220, 330, 440, 110, 220, 330, 440]"
            ]
          },
          "metadata": {},
          "execution_count": 24
        }
      ]
    },
    {
      "cell_type": "code",
      "source": [
        "D1<D2"
      ],
      "metadata": {
        "colab": {
          "base_uri": "https://localhost:8080/"
        },
        "id": "m6PU8VmwL5Ii",
        "outputId": "84aa0bf5-1d05-477d-ac55-16ffc052705c"
      },
      "execution_count": 26,
      "outputs": [
        {
          "output_type": "execute_result",
          "data": {
            "text/plain": [
              "False"
            ]
          },
          "metadata": {},
          "execution_count": 26
        }
      ]
    },
    {
      "cell_type": "code",
      "source": [
        "E1=[1,2,3,3]                   # Using relational operators in list\n",
        "E2=[1,2,3,4]\n",
        "print(E1>E2)\n",
        "print(E1<E2)\n",
        "print(E1==E2)\n",
        "print(4 in E1)\n",
        "print(3 in E2)"
      ],
      "metadata": {
        "colab": {
          "base_uri": "https://localhost:8080/"
        },
        "id": "SGDemZL9MP1Y",
        "outputId": "71554a94-dc31-45dd-9c95-a52b5e0ed4f9"
      },
      "execution_count": 33,
      "outputs": [
        {
          "output_type": "stream",
          "name": "stdout",
          "text": [
            "False\n",
            "True\n",
            "False\n",
            "False\n",
            "True\n"
          ]
        }
      ]
    },
    {
      "cell_type": "code",
      "source": [],
      "metadata": {
        "id": "HAL3n0wJMk6f"
      },
      "execution_count": null,
      "outputs": []
    }
  ]
}